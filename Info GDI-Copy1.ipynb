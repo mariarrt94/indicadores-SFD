{
 "cells": [
  {
   "cell_type": "markdown",
   "id": "e8367a9f",
   "metadata": {},
   "source": [
    "### Script para calcular indicadores SFD\n",
    "El código toma como argumento el script Functions.R en dónde se definen las funciones que calculan todos los indicadores. \n",
    "Después se calculan dentro del código general las variables intermedias necesarias para calcular los indicadores y \n",
    "finalmente se usa la función de indicadores para las distintas desagregaciones\n",
    "Autor: María Reyes Retana"
   ]
  },
  {
   "cell_type": "code",
   "execution_count": null,
   "id": "19d6af27",
   "metadata": {},
   "outputs": [],
   "source": [
    "options(warn=-1)\n",
    "source('utils.R')\n",
    "source('Functions.R')\n",
    "options(scipen=999)"
   ]
  },
  {
   "cell_type": "code",
   "execution_count": 68,
   "id": "be9b3b16",
   "metadata": {},
   "outputs": [
    {
     "name": "stderr",
     "output_type": "stream",
     "text": [
      "\u001b[1mRows: \u001b[22m\u001b[34m1818950\u001b[39m \u001b[1mColumns: \u001b[22m\u001b[34m164\u001b[39m\n",
      "\u001b[36m──\u001b[39m \u001b[1mColumn specification\u001b[22m \u001b[36m────────────────────────────────────────────────────────\u001b[39m\n",
      "\u001b[1mDelimiter:\u001b[22m \",\"\n",
      "\u001b[31mchr\u001b[39m   (3): pais_c, upm_ci, estrato_ci\n",
      "\u001b[32mdbl\u001b[39m (154): region_BID_c, region_c, anio_c, mes_c, zona_c, factor_ch, idh_ch,...\n",
      "\u001b[33mlgl\u001b[39m   (7): afroind_ano_ci, rama_ci , tcylmpri_ci, tcylmpri_ch, ppp_wdi2011 ,...\n",
      "\n",
      "\u001b[36mℹ\u001b[39m Use `spec()` to retrieve the full column specification for this data.\n",
      "\u001b[36mℹ\u001b[39m Specify the column types or set `show_col_types = FALSE` to quiet this message.\n"
     ]
    }
   ],
   "source": [
    "# Objetcs\n",
    "path <- str_c(scldatalake,\n",
    "              \"Household Socio-Economic Surveys/Harmonized Household Surveys/concat/harmonized-latest-v1.csv\")\n",
    "data_total <-s3read_using(FUN = read_delim, \n",
    "                      object = path, delim=',')  %>% as_tibble() "
   ]
  },
  {
   "cell_type": "code",
   "execution_count": 66,
   "id": "366cad92",
   "metadata": {},
   "outputs": [],
   "source": [
    "year = c(2016, 2015, 2014, 2013, 2012, 2011, 2010, 2009) # aquí pones los años que quieres correr y la agarra de las concatenadas. Importante detalle con BRA 2020, 2019"
   ]
  },
  {
   "cell_type": "code",
   "execution_count": null,
   "id": "5f49adff",
   "metadata": {},
   "outputs": [],
   "source": [
    "for (i in year) {\n",
    "   \n",
    "    path = c(str_c(scldatalake,\n",
    "             \"Household Socio-Economic Surveys/Harmonized Household Surveys/concat/csv/harmonized-\",i,\".csv\"))\n",
    "    \n",
    "    data_total <-s3read_using(FUN = read_csv, \n",
    "                      object = path, show_col_types = FALSE)  %>% as_tibble()\n",
    "    \n",
    "    data_total <-  data_total %>% \n",
    "    select(edusc_ci,edad_ci, jefe_ci, sexo_ci, ylm_ci, ynlm_ci, zona_c, sexo_ci, afroind_ci, dis_ci, edad_ci, anio_c, pais_c, idh_ch, edupc_ci, edusi_ci,\n",
    "       miembros_ci, lp5_ci, lp31_ci, factor_ci, factor_ch, internet_ch,  cel_ch, aedu_ci, ylnm_ci, ynlnm_ci, nmiembros_ch, eduui_ci, eduuc_ci, edus2c_ci)\n",
    "    \n",
    "    gc() # liberar memoria\n",
    "    \n",
    "   data_gdi <- data_total %>%\n",
    "  mutate(age_25_mas = ifelse(edad_ci>=25, 1, 0)) %>%\n",
    "  mutate(jefa_ci = case_when(jefe_ci==1 & sexo_ci==2 ~ 1, \n",
    "                             jefe_ci==1 & sexo_ci==1 ~ 0, \n",
    "                             TRUE ~ NA_real_),\n",
    "         ylm_ci=as.double(ylm_ci), ynlm_ci=as.double(ynlm_ci),\n",
    "         ylnm_ci=as.double(ylnm_ci),\n",
    "         urbano_ci = case_when(zona_c == 1 ~ 1, \n",
    "                               is.na(zona_c) ~NA_real_, \n",
    "                               TRUE ~ 0), \n",
    "         pob_sfd = case_when(sexo_ci == 2 ~ 1, \n",
    "                             afroind_ci == 1 ~ 1, \n",
    "                             afroind_ci == 2 ~ 1, \n",
    "                             dis_ci == 1 ~ 1, \n",
    "                             TRUE ~ 0), # variable requested for SFD - GDI\n",
    "         pob18_ci = case_when(edad_ci<=18 ~ 1, \n",
    "                              is.na(edad_ci) ~ NA_real_, \n",
    "                              TRUE ~ 0), \n",
    "         pob65_ci = case_when(edad_ci>=65 ~ 1, \n",
    "                              is.na(edad_ci) ~ NA_real_, \n",
    "                              TRUE ~ 0),\n",
    "        pob_indi = ifelse(afroind_ci==1, 1, NA), \n",
    "        pob_afro = ifelse(afroind_ci==2, 1, NA)) %>% \n",
    "        mutate(age_20_25 = ifelse(edad_ci>=20 & edad_ci <=25, 1, NA),\n",
    "        age_term_s_c = case_when(pais_c == \"BRB\" & (edad_ci>=18 & edad_ci<=20) ~ 1, \n",
    "                                (pais_c %in% c(\"COL\", \"CRI\", \"GTM\", \"GTM\", \"GUY\", \"JAM\", \"NIC\", \"PER\", \"VEN\")) & (edad_ci>=19 & edad_ci<=21) ~ 1,\n",
    "                                !(pais_c == \"COL\" | pais_c == \"CRI\"| pais_c ==  \"GTM\"| pais_c ==  \"GTM\"| pais_c ==  \"GUY\"| pais_c ==  \"JAM\"\n",
    "                                  | pais_c == \"NIC\"| pais_c ==  \"PER\"| pais_c ==  \"VEN\"| pais_c ==  \"BRB\") & (edad_ci>=20 & edad_ci<=22) ~ 1, \n",
    "                               TRUE ~ NA_real_), \n",
    "        t_cond_sec_aedu = case_when((pais_c == \"BRB\" | pais_c == \"COL\" | pais_c == \"CRI\" |pais_c == \"GUY\" | pais_c == \"PER\" | pais_c == \"VEN\"\n",
    "                                 | pais_c == \"SLV\" | pais_c == \"GTM\" | pais_c == \"HND\" | pais_c == \"JAM\" | pais_c == \"NIC\") \n",
    "                                & aedu_ci>=11 & age_term_s_c==1 ~ 1, \n",
    "                                (pais_c == \"HTI\" | pais_c == \"SUR\") & aedu_ci>=13 & age_term_s_c==1 ~ 1,\n",
    "                                 aedu_ci>=12 & age_term_s_c==1 & !(pais_c == \"BRB\" | pais_c == \"COL\" | pais_c == \"CRI\" \n",
    "                                                                    |pais_c == \"GUY\" | pais_c == \"PER\" | pais_c == \"VEN\"\n",
    "                                 | pais_c == \"SLV\" | pais_c == \"GTM\" | pais_c == \"HND\" | pais_c == \"JAM\" | pais_c == \"NIC\" | \n",
    "                                                                  pais_c == \"HTI\" | pais_c == \"SUR\") ~ 1,  \n",
    "                                       TRUE ~ NA_real_),\n",
    "        t_cond_secundaria = case_when(((edusc_ci==1 | eduui_ci==1 | eduuc_ci==1) & age_term_s_c==1) ~ 1, \n",
    "                                     TRUE ~ NA_real_),\n",
    "        t_cond_secundaria_2025 = case_when((pais_c == \"BRB\" | pais_c == \"COL\" | pais_c == \"CRI\" |pais_c == \"GUY\" | pais_c == \"PER\" | pais_c == \"VEN\"\n",
    "                                 | pais_c == \"SLV\" | pais_c == \"GTM\" | pais_c == \"HND\" | pais_c == \"JAM\" | pais_c == \"NIC\") \n",
    "                                & aedu_ci>=11 & age_20_25==1 ~ 1, \n",
    "                                (pais_c == \"HTI\" | pais_c == \"SUR\") & aedu_ci>=13 & age_20_25==1 ~ 1,\n",
    "                                 aedu_ci>=12 & age_20_25==1 & !(pais_c == \"BRB\" | pais_c == \"COL\" | pais_c == \"CRI\" \n",
    "                                                                    |pais_c == \"GUY\" | pais_c == \"PER\" | pais_c == \"VEN\"\n",
    "                                 | pais_c == \"SLV\" | pais_c == \"GTM\" | pais_c == \"HND\" | pais_c == \"JAM\" | pais_c == \"NIC\" | \n",
    "                                                                  pais_c == \"HTI\" | pais_c == \"SUR\") ~ 1,  \n",
    "                                       TRUE ~ NA_real_), \n",
    "         t_cond_secundaria_2025_g = case_when(((edusc_ci==1 | eduui_ci==1 | eduuc_ci==1) & age_20_25==1) ~ 1, \n",
    "                                     TRUE ~ NA_real_),\n",
    "         age_term_p_c = case_when(pais_c == \"TTO\" & (edad_ci>=15 & edad_ci<=17) ~ 1, \n",
    "                                (pais_c %in% c(\"COL\", \"BRB\", \"BRA\")) & (edad_ci>=13 & edad_ci<=15) ~ 1,\n",
    "                                !(pais_c == \"COL\" | pais_c == \"BRA\"| pais_c ==  \"TTO\"| pais_c ==  \"BRB\") & (edad_ci>=14 & edad_ci<=16) ~ 1, \n",
    "                               TRUE ~ NA_real_),\n",
    "        t_cond_prim_aedu = case_when((pais_c == \"BRA\" | pais_c == \"COL\") & aedu_ci>=5 & age_term_p_c==1 ~ 1,\n",
    "                         (pais_c == \"TTO\") & aedu_ci>=7 & age_term_p_c==1 ~ 1,\n",
    "                          aedu_ci>=6 & age_term_p_c==1 & !(pais_c == \"BRA\" | pais_c == \"COL\" | pais_c == \"TTO\") ~ 1,\n",
    "                          TRUE ~NA_real_),\n",
    "        t_cond_primaria = case_when(((edupc_ci==1 | edusi_ci==1 | edusc_ci==1 | eduui_ci==1 | eduuc_ci==1) & age_term_p_c==1) ~ 1, \n",
    "                                     TRUE ~ NA_real_),\n",
    "        t_cond_primaria_2025 = case_when((pais_c == \"BRA\" | pais_c == \"COL\") & aedu_ci>=5 & age_20_25==1 ~ 1,\n",
    "                         (pais_c == \"TTO\") & aedu_ci>=7 & age_20_25==1 ~ 1,\n",
    "                          aedu_ci>=6 & age_20_25==1 & !(pais_c == \"BRA\" | pais_c == \"COL\" | pais_c == \"TTO\") ~ 1,\n",
    "                          TRUE ~NA_real_)) %>%\n",
    "  rowwise() %>%  \n",
    "  # indiv\n",
    "  mutate(ytot_ci = sum(ylm_ci, ynlm_ci, ynlnm_ci, ylnm_ci, na.rm=TRUE),\n",
    "         ytot_ci = ifelse(ytot_ci<0, NA, ytot_ci),\n",
    "         yallsr18 = ifelse(edad_ci>=18, ylm_ci, NA)) %>%\n",
    "  # fam\n",
    "  group_by(anio_c, pais_c, idh_ch) %>%\n",
    "  mutate(ytot_ch = ifelse(miembros_ci==1,sum(ytot_ci,na.rm=TRUE),NA),\n",
    "         ytot_ch = ifelse(ytot_ch<0, NA, ytot_ch),\n",
    "         ylm_ch = ifelse(miembros_ci==1,sum(ylm_ci,na.rm=TRUE),NA),\n",
    "         ylm_ch = ifelse(ylm_ch<0, NA, ylm_ch),\n",
    "         ylm_women = sum(ifelse(sexo_ci == 2, ylm_ci,NA), na.rm = TRUE),\n",
    "         ylm_women = ifelse(is.na(ylm_ci), NA, ylm_women),\n",
    "         ytot_women = sum(ifelse(sexo_ci == 2, ytot_ci,NA), na.rm = TRUE),\n",
    "         ytot_women = ifelse(is.na(ylm_ci), NA, ytot_women),\n",
    "         hh_ylm_women = ifelse(ylm_women>0, ylm_women/ylm_ch, # ingreso laboral de la mujer en total laboral del hogar\n",
    "                              ifelse(ylm_women==0, 0, NA)),\n",
    "         hh_ytot_women = ifelse(ytot_women>0, ytot_women/ytot_ch, # ingreso total de la mujer en total del hogar\n",
    "                              ifelse(ytot_women==0, 0, NA))) %>%\n",
    "ungroup()%>%\n",
    " mutate(# Income per cápita definition \n",
    "    pc_ytot_ch = ytot_ch/nmiembros_ch,\n",
    "    pc_ytot_ch = ifelse(pc_ytot_ch<=0,NA,pc_ytot_ch),\n",
    "    # International poverty\n",
    "    poor=case_when(pc_ytot_ch <lp5_ci  ~ 1,\n",
    "                   pc_ytot_ch>=lp5_ci & !is.na(pc_ytot_ch) ~ 0), \n",
    "    poor31=case_when(pc_ytot_ch <lp31_ci  ~ 1,\n",
    "                     pc_ytot_ch>=lp31_ci & !is.na(pc_ytot_ch) ~ 0), \n",
    "    poor = ifelse(is.na(pc_ytot_ch),NA,poor),\n",
    "    poor31 = ifelse(is.na(pc_ytot_ch),NA,poor31))\n",
    "    \n",
    "    ##### Average without desagrega\n",
    "    \n",
    "    data_average <- data_gdi %>% \n",
    "  mutate(sex = \"Total\", ethnicity = \"Total\") %>% \n",
    "  funcion_indicator_tot(., anio_c, pais_c, sex, ethnicity) \n",
    "    \n",
    "   # By gender \n",
    "    \n",
    "    data_average_gender <- data_gdi %>% \n",
    " mutate(sex = case_when(sexo_ci == 2 ~ \"women\",\n",
    "                        sexo_ci == 1 ~\"men\", \n",
    "                          TRUE ~ NA_character_),\n",
    "          ethnicity = \"Total\") %>%\n",
    " funcion_indicator(., anio_c, pais_c, sex, ethnicity) \n",
    "    \n",
    "   # By ethnicity \n",
    "    \n",
    "  data_average_race <- data_gdi %>% \n",
    " mutate(sex = \"Total\", \n",
    "        ethnicity = case_when(afroind_ci == 1 ~ \"Indi\", \n",
    "                                afroind_ci == 2 ~ \"Afro\",\n",
    "                                afroind_ci == 3 ~ \"Otro\", \n",
    "                                is.na(afroind_ci) ~ \"Total\",\n",
    "                                afroind_ci == 9 ~ NA_character_)) %>%\n",
    "  group_by(anio_c, pais_c, sex, ethnicity) %>%\n",
    "  funcion_indicator(., anio_c, pais_c, sex, ethnicity) %>%\n",
    " filter(ethnicity != \"Total\")  \n",
    "    \n",
    "    # by gender and ethnicity\n",
    "    \n",
    "    data_average_gender_race <- data_gdi %>% \n",
    " mutate(sex = case_when(sexo_ci == 2 ~ \"women\",\n",
    "                          sexo_ci == 1 ~\"men\", \n",
    "                          TRUE ~ NA_character_),\n",
    "          ethnicity = case_when(afroind_ci == 1 ~ \"Indi\", \n",
    "                                afroind_ci == 2 ~ \"Afro\",\n",
    "                                afroind_ci == 3 ~ \"Otro\", \n",
    "                                is.na(afroind_ci) ~ \"Total\", \n",
    "                                afroind_ci == 9 ~ NA_character_)) %>%\n",
    "  filter(ethnicity != \"Total\") %>%\n",
    "  funcion_indicator(., anio_c, pais_c, sex, ethnicity) \n",
    "    \n",
    "   data_total <- do.call(\"rbind\", list(data_average, data_average_gender, data_average_race, data_average_gender_race)) %>%\n",
    "               mutate(year = anio_c, isoalpha3 = pais_c) %>%\n",
    "               ungroup() %>%\n",
    "               select(-c(anio_c, pais_c)) \n",
    "    \n",
    "    # salvar data por año\n",
    "    \n",
    "    write.csv(data_total, paste(\"Outputs/data_total_\",i,\".csv\", sep = \"\"), row.names = FALSE)\n",
    "    gc()\n",
    "    \n",
    "    \n",
    "}"
   ]
  },
  {
   "cell_type": "markdown",
   "id": "f9c7d1cb",
   "metadata": {},
   "source": [
    "#### Uno por uno:\n",
    "si se quiere correr por base y no en el for de años"
   ]
  },
  {
   "cell_type": "code",
   "execution_count": 70,
   "id": "5651a484",
   "metadata": {},
   "outputs": [],
   "source": [
    "path <-  str_c(scldatalake,\n",
    "              \"Household Socio-Economic Surveys/Harmonized Household Surveys/MEX/ENIGH/data_arm/MEX_2008m8_m11_BID.dta\")\n",
    "data_total <-s3read_using(FUN = read_dta, \n",
    "                      object = path)  %>% as_tibble() "
   ]
  },
  {
   "cell_type": "code",
   "execution_count": 114,
   "id": "bcc0ffeb",
   "metadata": {},
   "outputs": [],
   "source": [
    "data_gdi <- data_total %>%\n",
    "  mutate(age_25_mas = ifelse(edad_ci>=25, 1, 0)) %>%\n",
    "  mutate(jefa_ci = case_when(jefe_ci==1 & sexo_ci==2 ~ 1, \n",
    "                             jefe_ci==1 & sexo_ci==1 ~ 0, \n",
    "                             TRUE ~ NA_real_),\n",
    "         ylm_ci=as.double(ylm_ci), ynlm_ci=as.double(ynlm_ci),\n",
    "         ylnm_ci=as.double(ylnm_ci),\n",
    "         urbano_ci = case_when(zona_c == 1 ~ 1, \n",
    "                               is.na(zona_c) ~NA_real_, \n",
    "                               TRUE ~ 0), \n",
    "         pob_sfd = case_when(sexo_ci == 2 ~ 1, \n",
    "                             afroind_ci == 1 ~ 1, \n",
    "                             afroind_ci == 2 ~ 1, \n",
    "                             dis_ci == 1 ~ 1, \n",
    "                             TRUE ~ 0), # variable requested for SFD - GDI\n",
    "         pob18_ci = case_when(edad_ci<=18 ~ 1, \n",
    "                              is.na(edad_ci) ~ NA_real_, \n",
    "                              TRUE ~ 0), \n",
    "         pob65_ci = case_when(edad_ci>=65 ~ 1, \n",
    "                              is.na(edad_ci) ~ NA_real_, \n",
    "                              TRUE ~ 0),\n",
    "        pob_indi = ifelse(afroind_ci==1, 1, NA), \n",
    "        pob_afro = ifelse(afroind_ci==2, 1, NA)) %>% \n",
    "mutate(age_20_25 = ifelse(edad_ci>=20 & edad_ci <=25, 1, NA),\n",
    "       age_term_s_c = case_when(pais_c == \"BRB\" & (edad_ci>=18 & edad_ci<=20) ~ 1, \n",
    "                                (pais_c %in% c(\"COL\", \"CRI\", \"GTM\", \"GTM\", \"GUY\", \"JAM\", \"NIC\", \"PER\", \"VEN\")) & (edad_ci>=19 & edad_ci<=21) ~ 1,\n",
    "                                !(pais_c == \"COL\" | pais_c == \"CRI\"| pais_c ==  \"GTM\"| pais_c ==  \"GTM\"| pais_c ==  \"GUY\"| pais_c ==  \"JAM\"\n",
    "                                  | pais_c == \"NIC\"| pais_c ==  \"PER\"| pais_c ==  \"VEN\"| pais_c ==  \"BRB\") & (edad_ci>=20 & edad_ci<=22) ~ 1, \n",
    "                               TRUE ~ NA_real_), \n",
    "       t_cond_sec_aedu = case_when((pais_c == \"BRB\" | pais_c == \"COL\" | pais_c == \"CRI\" |pais_c == \"GUY\" | pais_c == \"PER\" | pais_c == \"VEN\"\n",
    "                                 | pais_c == \"SLV\" | pais_c == \"GTM\" | pais_c == \"HND\" | pais_c == \"JAM\" | pais_c == \"NIC\") \n",
    "                                & aedu_ci>=11 & age_term_s_c==1 ~ 1, \n",
    "                                (pais_c == \"HTI\" | pais_c == \"SUR\") & aedu_ci>=13 & age_term_s_c==1 ~ 1,\n",
    "                                 aedu_ci>=12 & age_term_s_c==1 & !(pais_c == \"BRB\" | pais_c == \"COL\" | pais_c == \"CRI\" \n",
    "                                                                    |pais_c == \"GUY\" | pais_c == \"PER\" | pais_c == \"VEN\"\n",
    "                                 | pais_c == \"SLV\" | pais_c == \"GTM\" | pais_c == \"HND\" | pais_c == \"JAM\" | pais_c == \"NIC\" | \n",
    "                                                                  pais_c == \"HTI\" | pais_c == \"SUR\") ~ 1,  \n",
    "                                       TRUE ~ NA_real_),\n",
    "       t_cond_secundaria = case_when(((edusc_ci==1 | eduui_ci==1 | eduuc_ci==1) & age_term_s_c==1) ~ 1, \n",
    "                                     TRUE ~ NA_real_),\n",
    "       t_cond_secundaria_2025 = case_when((pais_c == \"BRB\" | pais_c == \"COL\" | pais_c == \"CRI\" |pais_c == \"GUY\" | pais_c == \"PER\" | pais_c == \"VEN\"\n",
    "                                 | pais_c == \"SLV\" | pais_c == \"GTM\" | pais_c == \"HND\" | pais_c == \"JAM\" | pais_c == \"NIC\") \n",
    "                                & aedu_ci>=11 & age_20_25==1 ~ 1, \n",
    "                                (pais_c == \"HTI\" | pais_c == \"SUR\") & aedu_ci>=13 & age_20_25==1 ~ 1,\n",
    "                                 aedu_ci>=12 & age_20_25==1 & !(pais_c == \"BRB\" | pais_c == \"COL\" | pais_c == \"CRI\" \n",
    "                                                                    |pais_c == \"GUY\" | pais_c == \"PER\" | pais_c == \"VEN\"\n",
    "                                 | pais_c == \"SLV\" | pais_c == \"GTM\" | pais_c == \"HND\" | pais_c == \"JAM\" | pais_c == \"NIC\" | \n",
    "                                                                  pais_c == \"HTI\" | pais_c == \"SUR\") ~ 1,  \n",
    "                                       TRUE ~ NA_real_), \n",
    "       t_cond_secundaria_2025_g = case_when(((edusc_ci==1 | eduui_ci==1 | eduuc_ci==1) & age_20_25==1) ~ 1, \n",
    "                                     TRUE ~ NA_real_),\n",
    "       age_term_p_c = case_when(pais_c == \"TTO\" & (edad_ci>=15 & edad_ci<=17) ~ 1, \n",
    "                                (pais_c %in% c(\"COL\", \"BRB\", \"BRA\")) & (edad_ci>=13 & edad_ci<=15) ~ 1,\n",
    "                                !(pais_c == \"COL\" | pais_c == \"BRA\"| pais_c ==  \"TTO\"| pais_c ==  \"BRB\") & (edad_ci>=14 & edad_ci<=16) ~ 1, \n",
    "                               TRUE ~ NA_real_),\n",
    "       t_cond_prim_aedu = case_when((pais_c == \"BRA\" | pais_c == \"COL\") & aedu_ci>=5 & age_term_p_c==1 ~ 1,\n",
    "                         (pais_c == \"TTO\") & aedu_ci>=7 & age_term_p_c==1 ~ 1,\n",
    "                          aedu_ci>=6 & age_term_p_c==1 & !(pais_c == \"BRA\" | pais_c == \"COL\" | pais_c == \"TTO\") ~ 1,\n",
    "                          TRUE ~NA_real_),\n",
    "       t_cond_primaria = case_when(((edupc_ci==1 | edusi_ci==1 | edusc_ci==1 | eduui_ci==1 | eduuc_ci==1) & age_term_p_c==1) ~ 1, \n",
    "                                     TRUE ~ NA_real_),\n",
    "       t_cond_primaria_2025 = case_when((pais_c == \"BRA\" | pais_c == \"COL\") & aedu_ci>=5 & age_20_25==1 ~ 1,\n",
    "                         (pais_c == \"TTO\") & aedu_ci>=7 & age_20_25==1 ~ 1,\n",
    "                          aedu_ci>=6 & age_20_25==1 & !(pais_c == \"BRA\" | pais_c == \"COL\" | pais_c == \"TTO\") ~ 1,\n",
    "                          TRUE ~NA_real_)) %>%\n",
    "  rowwise() %>%  \n",
    "  # indiv\n",
    "  mutate(ytot_ci = sum(ylm_ci, ynlm_ci, ynlnm_ci, ylnm_ci, na.rm=TRUE),\n",
    "         ytot_ci = ifelse(ytot_ci<0, NA, ytot_ci),\n",
    "         yallsr18 = ifelse(edad_ci>=18, ylm_ci, NA)) %>%\n",
    "  # fam\n",
    "  group_by(anio_c, pais_c, idh_ch) %>%\n",
    "  mutate(ytot_ch = ifelse(miembros_ci==1,sum(ytot_ci,na.rm=TRUE),NA),\n",
    "         ytot_ch = ifelse(ytot_ch<0, NA, ytot_ch),\n",
    "         ylm_ch = ifelse(miembros_ci==1,sum(ylm_ci,na.rm=TRUE),NA),\n",
    "         ylm_ch = ifelse(ylm_ch<0, NA, ylm_ch),\n",
    "         ylm_women = sum(ifelse(sexo_ci == 2, ylm_ci,NA), na.rm = TRUE),\n",
    "         ylm_women = ifelse(is.na(ylm_ci), NA, ylm_women),\n",
    "         ytot_women = sum(ifelse(sexo_ci == 2, ytot_ci,NA), na.rm = TRUE),\n",
    "         ytot_women = ifelse(is.na(ylm_ci), NA, ytot_women),\n",
    "         hh_ylm_women = ifelse(ylm_women>0, ylm_women/ylm_ch, # ingreso laboral de la mujer en total laboral del hogar\n",
    "                              ifelse(ylm_women==0, 0, NA)),\n",
    "         hh_ytot_women = ifelse(ytot_women>0, ytot_women/ytot_ch, # ingreso total de la mujer en total del hogar\n",
    "                              ifelse(ytot_women==0, 0, NA))) %>%\n",
    "ungroup()%>%\n",
    " mutate(# Income per cápita definition \n",
    "    pc_ytot_ch = ytot_ch/nmiembros_ch,\n",
    "    pc_ytot_ch = ifelse(pc_ytot_ch<=0,NA,pc_ytot_ch),\n",
    "    # International poverty\n",
    "    poor=case_when(pc_ytot_ch <lp5_ci  ~ 1,\n",
    "                   pc_ytot_ch>=lp5_ci & !is.na(pc_ytot_ch) ~ 0), \n",
    "    poor31=case_when(pc_ytot_ch <lp31_ci  ~ 1,\n",
    "                     pc_ytot_ch>=lp31_ci & !is.na(pc_ytot_ch) ~ 0), \n",
    "    poor = ifelse(is.na(pc_ytot_ch),NA,poor),\n",
    "    poor31 = ifelse(is.na(pc_ytot_ch),NA,poor31))\n",
    " "
   ]
  },
  {
   "cell_type": "markdown",
   "id": "f0a65773",
   "metadata": {},
   "source": [
    "#### Average: without disagregation"
   ]
  },
  {
   "cell_type": "code",
   "execution_count": null,
   "id": "e43f1bd3",
   "metadata": {},
   "outputs": [],
   "source": [
    "data_average <- data_gdi %>% \n",
    "  mutate(sex = \"Total\", ethnicity = \"Total\") %>% \n",
    "  funcion_indicator_tot(., anio_c, pais_c, sex, ethnicity) "
   ]
  },
  {
   "cell_type": "markdown",
   "id": "ce5d05e5",
   "metadata": {},
   "source": [
    "### Average: by gender"
   ]
  },
  {
   "cell_type": "code",
   "execution_count": 101,
   "id": "a664afb0",
   "metadata": {},
   "outputs": [
    {
     "name": "stderr",
     "output_type": "stream",
     "text": [
      "\u001b[1m\u001b[22m`summarise()` has grouped output by 'anio_c', 'pais_c', 'sex'. You can override\n",
      "using the `.groups` argument.\n"
     ]
    }
   ],
   "source": [
    "data_average_gender <- data_gdi %>% \n",
    " mutate(sex = case_when(sexo_ci == 2 ~ \"women\",\n",
    "                        sexo_ci == 1 ~\"men\", \n",
    "                          TRUE ~ NA_character_),\n",
    "          ethnicity = \"Total\") %>%\n",
    " funcion_indicator(., anio_c, pais_c, sex, ethnicity) "
   ]
  },
  {
   "cell_type": "markdown",
   "id": "c9f07a5b",
   "metadata": {},
   "source": [
    "### Average: by race"
   ]
  },
  {
   "cell_type": "code",
   "execution_count": 103,
   "id": "7ca0f5a8",
   "metadata": {},
   "outputs": [
    {
     "name": "stderr",
     "output_type": "stream",
     "text": [
      "\u001b[1m\u001b[22m`summarise()` has grouped output by 'anio_c', 'pais_c', 'sex'. You can override\n",
      "using the `.groups` argument.\n"
     ]
    }
   ],
   "source": [
    "data_average_race <- data_gdi %>% \n",
    " mutate(sex = \"Total\", \n",
    "        ethnicity = case_when(afroind_ci == 1 ~ \"Indi\", \n",
    "                                afroind_ci == 2 ~ \"Afro\",\n",
    "                                afroind_ci == 3 ~ \"Otro\", \n",
    "                                is.na(afroind_ci) ~ \"Total\",\n",
    "                                afroind_ci == 9 ~ NA_character_)) %>%\n",
    "  group_by(anio_c, pais_c, sex, ethnicity) %>%\n",
    "  funcion_indicator(., anio_c, pais_c, sex, ethnicity) %>%\n",
    " filter(ethnicity != \"Total\") "
   ]
  },
  {
   "cell_type": "markdown",
   "id": "1c33b472",
   "metadata": {},
   "source": [
    "### Average: by gender and race"
   ]
  },
  {
   "cell_type": "code",
   "execution_count": 104,
   "id": "3a01001d",
   "metadata": {},
   "outputs": [
    {
     "name": "stderr",
     "output_type": "stream",
     "text": [
      "\u001b[1m\u001b[22m`summarise()` has grouped output by 'anio_c', 'pais_c', 'sex'. You can override\n",
      "using the `.groups` argument.\n"
     ]
    }
   ],
   "source": [
    "data_average_gender_race <- data_gdi %>% \n",
    " mutate(sex = case_when(sexo_ci == 2 ~ \"women\",\n",
    "                          sexo_ci == 1 ~\"men\", \n",
    "                          TRUE ~ NA_character_),\n",
    "          ethnicity = case_when(afroind_ci == 1 ~ \"Indi\", \n",
    "                                afroind_ci == 2 ~ \"Afro\",\n",
    "                                afroind_ci == 3 ~ \"Otro\", \n",
    "                                is.na(afroind_ci) ~ \"Total\", \n",
    "                                afroind_ci == 9 ~ NA_character_)) %>%\n",
    "  filter(ethnicity != \"Total\") %>%\n",
    "  funcion_indicator(., anio_c, pais_c, sex, ethnicity) "
   ]
  },
  {
   "cell_type": "markdown",
   "id": "5b8c31ad",
   "metadata": {},
   "source": [
    "### All"
   ]
  },
  {
   "cell_type": "code",
   "execution_count": 105,
   "id": "0888959e",
   "metadata": {},
   "outputs": [],
   "source": [
    "data_total <- do.call(\"rbind\", list(data_average, data_average_gender, data_average_race, data_average_gender_race)) %>%\n",
    "               mutate(year = anio_c, isoalpha3 = pais_c) %>%\n",
    "               ungroup() %>%\n",
    "               select(-c(anio_c, pais_c))"
   ]
  },
  {
   "cell_type": "code",
   "execution_count": null,
   "id": "19f621ed",
   "metadata": {},
   "outputs": [],
   "source": [
    "write.csv(data_total, paste(\"Outputs/data_total_\",year,\".csv\", sep = \"\"), row.names = FALSE)"
   ]
  }
 ],
 "metadata": {
  "kernelspec": {
   "display_name": "R",
   "language": "R",
   "name": "ir"
  },
  "language_info": {
   "codemirror_mode": "r",
   "file_extension": ".r",
   "mimetype": "text/x-r-source",
   "name": "R",
   "pygments_lexer": "r",
   "version": "4.1.3"
  }
 },
 "nbformat": 4,
 "nbformat_minor": 5
}
